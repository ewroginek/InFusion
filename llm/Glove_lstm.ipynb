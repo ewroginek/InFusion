{
 "cells": [
  {
   "cell_type": "code",
   "execution_count": 58,
   "id": "5d01d469-3aed-4231-8df8-b9e23e73ec03",
   "metadata": {
    "tags": []
   },
   "outputs": [],
   "source": [
    "import numpy as np\n",
    "import pandas as pd\n",
    "import tensorflow as tf\n",
    "from tensorflow.keras.layers import LSTM, Embedding, Dense\n",
    "from tensorflow.keras.models import Sequential\n",
    "from tensorflow.keras.preprocessing.sequence import pad_sequences\n",
    "from tensorflow.keras.preprocessing.text import Tokenizer\n",
    "\n",
    "file_path='/home/naseem_fordham/Pytorch/Infusion/llm/data'\n",
    "# /home/naseem_fordham/Pytorch/data/PV_2class.csv\n",
    "# Load pre-trained GloVe embeddings\n",
    "\n",
    "\n",
    "def load_glove_embeddings(file_path):\n",
    "    embeddings_index = {}\n",
    "    with open(file_path, encoding=\"utf8\") as f:\n",
    "        for line in f:\n",
    "            values = line.split()\n",
    "            if not values[0].isalnum():\n",
    "                # print(f\"Skipping line: {line}\")\n",
    "                continue\n",
    "            word = values[0]\n",
    "            try:\n",
    "                coefs = np.asarray(values[1:], dtype='float32')\n",
    "                embeddings_index[word] = coefs\n",
    "            except ValueError:\n",
    "                print(f\"Issue parsing line: {line}\")\n",
    "                continue\n",
    "    return embeddings_index\n",
    "\n",
    "\n",
    "# def load_glove_embeddings(file_path):\n",
    "#     embeddings_index = {}\n",
    "#     with open(file_path, encoding=\"utf8\") as f:\n",
    "#         for line in f:\n",
    "#             values = line.split()\n",
    "#             word = values[0]\n",
    "#             try:\n",
    "#                 coefs = np.asarray(values[1:], dtype='float32')\n",
    "#                 embeddings_index[word] = coefs\n",
    "#             except ValueError:\n",
    "#                 print(f\"Issue parsing line: {line}\")\n",
    "#                 continue\n",
    "#     return embeddings_index\n",
    "\n",
    "# Load GloVe embeddings\n",
    "path='/home/naseem_fordham/Pytorch/Infusion/llm/data/'\n",
    "glove_embeddings = load_glove_embeddings(f'{path}glove.6B.100d.txt')\n",
    "\n"
   ]
  },
  {
   "cell_type": "code",
   "execution_count": 63,
   "id": "03188708-e70a-4fe2-a172-65b46844cfcb",
   "metadata": {
    "tags": []
   },
   "outputs": [],
   "source": [
    "from sklearn.model_selection import train_test_split\n",
    "\n",
    "df=pd.read_csv('/home/naseem_fordham/Pytorch/data/PV_2class.csv')\n",
    "\n",
    "train_dataset, temp_dataset = train_test_split(df, test_size= 0.20, stratify= df[\"class\"], random_state = 47)\n",
    "val_dataset,   test_dataset   = train_test_split(temp_df, test_size= 0.20, stratify= temp_df[\"class\"],random_state = 47)\n",
    "\n",
    "\n"
   ]
  },
  {
   "cell_type": "code",
   "execution_count": 60,
   "id": "10682e65-beda-4dce-a0fc-ede488e0d96c",
   "metadata": {
    "tags": []
   },
   "outputs": [],
   "source": [
    "# df_train['class'].values"
   ]
  },
  {
   "cell_type": "code",
   "execution_count": 67,
   "id": "3393625f-e776-4d33-b832-bac6191e6129",
   "metadata": {},
   "outputs": [
    {
     "name": "stdout",
     "output_type": "stream",
     "text": [
      "Epoch 1/10\n",
      "64/64 [==============================] - 2s 23ms/step - loss: 0.6200 - accuracy: 0.6688 - val_loss: 0.6524 - val_accuracy: 0.6230\n",
      "Epoch 2/10\n",
      "64/64 [==============================] - 1s 19ms/step - loss: 0.5606 - accuracy: 0.7044 - val_loss: 0.6063 - val_accuracy: 0.6992\n",
      "Epoch 3/10\n",
      "64/64 [==============================] - 1s 19ms/step - loss: 0.5353 - accuracy: 0.7230 - val_loss: 0.6075 - val_accuracy: 0.6797\n",
      "Epoch 4/10\n",
      "64/64 [==============================] - 1s 19ms/step - loss: 0.5063 - accuracy: 0.7445 - val_loss: 0.6605 - val_accuracy: 0.6270\n",
      "Epoch 5/10\n",
      "64/64 [==============================] - 1s 19ms/step - loss: 0.4820 - accuracy: 0.7484 - val_loss: 0.6689 - val_accuracy: 0.6445\n",
      "Epoch 6/10\n",
      "64/64 [==============================] - 1s 19ms/step - loss: 0.4506 - accuracy: 0.7694 - val_loss: 0.6788 - val_accuracy: 0.5996\n",
      "Epoch 7/10\n",
      "64/64 [==============================] - 1s 19ms/step - loss: 0.4227 - accuracy: 0.7851 - val_loss: 0.8007 - val_accuracy: 0.6016\n",
      "Epoch 8/10\n",
      "64/64 [==============================] - 1s 19ms/step - loss: 0.3950 - accuracy: 0.7890 - val_loss: 0.7329 - val_accuracy: 0.6035\n",
      "Epoch 9/10\n",
      "64/64 [==============================] - 1s 19ms/step - loss: 0.3670 - accuracy: 0.8046 - val_loss: 0.8578 - val_accuracy: 0.5859\n",
      "Epoch 10/10\n",
      "64/64 [==============================] - 1s 19ms/step - loss: 0.3493 - accuracy: 0.8085 - val_loss: 0.9659 - val_accuracy: 0.5879\n"
     ]
    }
   ],
   "source": [
    "\n",
    "\n",
    "\n",
    "\n",
    "train_texts=train_dataset['tweet'].tolist()\n",
    "val_texts=val_dataset['tweet'].tolist()\n",
    "\n",
    "tokenizer = Tokenizer()\n",
    "tokenizer.fit_on_texts(texts)\n",
    "sequences = tokenizer.texts_to_sequences(train_texts)\n",
    "\n",
    "# Map words to embeddings\n",
    "embedding_matrix = np.zeros((len(tokenizer.word_index) + 1,100))\n",
    "for word, i in tokenizer.word_index.items():\n",
    "    embedding_vector = glove_embeddings.get(word)\n",
    "    if embedding_vector is not None:\n",
    "        embedding_matrix[i] = embedding_vector\n",
    "\n",
    "# Pad sequences\n",
    "max_sequence_length = max(len(seq) for seq in sequences)\n",
    "padded_sequences = pad_sequences(sequences, maxlen=max_sequence_length)\n",
    "\n",
    "# Define LSTM model\n",
    "model = Sequential([\n",
    "    Embedding(len(tokenizer.word_index) + 1, 100, weights=[embedding_matrix], input_length=max_sequence_length, trainable=True),  \n",
    "    LSTM(128),\n",
    "    Dense(2, activation='softmax')\n",
    "])\n",
    "train_label=train_dataset['class'].values\n",
    "val_labels=val_dataset['class'].values\n",
    "# Compile the model\n",
    "# model.compile(optimizer='adam', loss='binary_crossentropy', metrics=['accuracy'])\n",
    "model.compile(optimizer='adam', loss='sparse_categorical_crossentropy', metrics=['accuracy'])\n",
    "\n",
    "\n",
    "# Train the model\n",
    "model.fit(padded_sequences, train_label, epochs=10, validation_split=0.2)\n",
    "\n",
    "\n",
    "# Evaluate the model\n",
    "\n"
   ]
  },
  {
   "cell_type": "code",
   "execution_count": 68,
   "id": "c7a0ebd8-481b-4094-9505-b4b646445cc9",
   "metadata": {
    "tags": []
   },
   "outputs": [],
   "source": [
    "# Prepare test data\n",
    "test_texts = test_dataset['tweet'].tolist()\n",
    "test_sequences = tokenizer.texts_to_sequences(test_texts)\n",
    "padded_test_sequences = pad_sequences(test_sequences, maxlen=max_sequence_length)\n",
    "test_labels = test_dataset['class'].values # Example test labels, adjust according to your dataset\n"
   ]
  },
  {
   "cell_type": "code",
   "execution_count": 69,
   "id": "dc992819-b4f7-473b-b34e-e68f66e92d8e",
   "metadata": {
    "tags": []
   },
   "outputs": [
    {
     "name": "stdout",
     "output_type": "stream",
     "text": [
      "4/4 [==============================] - 0s 8ms/step\n"
     ]
    }
   ],
   "source": [
    "predictions = model.predict(padded_test_sequences)\n",
    "\n",
    "# Extract softmax values from predictions\n",
    "softmax_values = np.array([prediction[1] for prediction in predictions]) \n"
   ]
  },
  {
   "cell_type": "code",
   "execution_count": 70,
   "id": "2ac77457-2733-4e13-a722-2d7c4b30eea7",
   "metadata": {
    "tags": []
   },
   "outputs": [],
   "source": [
    "prediction=pd.DataFrame(predictions)"
   ]
  },
  {
   "cell_type": "code",
   "execution_count": 72,
   "id": "8729cdc9-5666-4aba-8111-a9c5d9fad57d",
   "metadata": {
    "tags": []
   },
   "outputs": [],
   "source": [
    "prediction.to_csv('/home/naseem_fordham/Pytorch/Infusion/data/llm/lstm_glove.csv')"
   ]
  },
  {
   "cell_type": "code",
   "execution_count": null,
   "id": "190a9c36-c150-4244-962f-bba2cd5e1bed",
   "metadata": {},
   "outputs": [],
   "source": []
  }
 ],
 "metadata": {
  "kernelspec": {
   "display_name": "Python 3 (ipykernel)",
   "language": "python",
   "name": "python3"
  },
  "language_info": {
   "codemirror_mode": {
    "name": "ipython",
    "version": 3
   },
   "file_extension": ".py",
   "mimetype": "text/x-python",
   "name": "python",
   "nbconvert_exporter": "python",
   "pygments_lexer": "ipython3",
   "version": "3.8.10"
  }
 },
 "nbformat": 4,
 "nbformat_minor": 5
}
